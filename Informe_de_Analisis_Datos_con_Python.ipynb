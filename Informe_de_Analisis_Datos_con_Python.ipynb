{
  "nbformat": 4,
  "nbformat_minor": 0,
  "metadata": {
    "colab": {
      "provenance": [],
      "authorship_tag": "ABX9TyOTLj1anw/A8KjdTVpuHRK2",
      "include_colab_link": true
    },
    "kernelspec": {
      "name": "python3",
      "display_name": "Python 3"
    },
    "language_info": {
      "name": "python"
    }
  },
  "cells": [
    {
      "cell_type": "markdown",
      "metadata": {
        "id": "view-in-github",
        "colab_type": "text"
      },
      "source": [
        "<a href=\"https://colab.research.google.com/github/gio27s/mi-proyecto-2/blob/main/Informe_de_Analisis_Datos_con_Python.ipynb\" target=\"_parent\"><img src=\"https://colab.research.google.com/assets/colab-badge.svg\" alt=\"Open In Colab\"/></a>"
      ]
    },
    {
      "cell_type": "markdown",
      "source": [
        "##Informe del Analisis de datos de la tienda de juan\n",
        "Aqui se visualizara un informe de los resulatdos\n",
        "del analisis de datos hecho con la data propuesta,teniendo en\n",
        "cuenta los puntos analisados en python usando google colab para obtener un maximo benefio para el negocio de juan."
      ],
      "metadata": {
        "id": "9qrhNWrbwmRK"
      }
    },
    {
      "cell_type": "markdown",
      "source": [
        "# **Analisis de la factuarcion**"
      ],
      "metadata": {
        "id": "ApadZAj3wlor"
      }
    },
    {
      "cell_type": "markdown",
      "source": [
        "    2.Importar bibliotecas necesarias: Asegúrate de importar\n",
        "    las bibliotecas que necesitas para tu análisis, como pandas\n",
        "    para manejar datos y matplotlib o seaborn para visualizaciones."
      ],
      "metadata": {
        "id": "Csri0k5DyNq7"
      }
    },
    {
      "cell_type": "markdown",
      "source": [
        "# **Resultados:**"
      ],
      "metadata": {
        "id": "xOMQDsuPzgtC"
      }
    },
    {
      "cell_type": "markdown",
      "source": [
        "# Análisis de facturación"
      ],
      "metadata": {
        "id": "is5lr_18zj8B"
      }
    },
    {
      "cell_type": "code",
      "source": [
        "Facturación Tienda 1: 1212258300.0\n",
        "Facturación Tienda 2: 1175828600.0\n",
        "Facturación Tienda 3: 1156536200.0\n",
        "Facturación Tienda 4: 1093693100.0\n",
        "     Tienda   Facturación\n",
        "0  Tienda 1  1.212258e+09\n",
        "1  Tienda 2  1.175829e+09\n",
        "2  Tienda 3  1.156536e+09\n",
        "3  Tienda 4  1.093693e+09"
      ],
      "metadata": {
        "id": "ZYi2aGe51YvR"
      },
      "execution_count": null,
      "outputs": []
    },
    {
      "cell_type": "markdown",
      "source": [
        "# 2. Ventas por categoría"
      ],
      "metadata": {
        "id": "J6nzCrvH06Ga"
      }
    },
    {
      "cell_type": "code",
      "source": [
        "   Categoría del Producto         Venta\n",
        "3             Electrónicos  1.749039e+09\n",
        "2        Electrodomésticos  1.395147e+09\n",
        "7                  Muebles  7.981114e+08\n",
        "4   Instrumentos musicales  3.672769e+08\n",
        "1     Deportes y diversión  1.506693e+08\n",
        "5                 Juguetes  7.762570e+07\n",
        "0  Artículos para el hogar  6.069090e+07\n",
        "6                   Libros  3.975600e+07"
      ],
      "metadata": {
        "id": "79FYx3or1NWa"
      },
      "execution_count": null,
      "outputs": []
    },
    {
      "cell_type": "markdown",
      "source": [
        "# 3. Calificación promedio de la tienda"
      ],
      "metadata": {
        "id": "fIsYp6Cz1Eux"
      }
    },
    {
      "cell_type": "code",
      "source": [
        "Calificación promedio Tienda 1: 3.976685036032217\n",
        "Calificación promedio Tienda 2: 4.037303942348453\n",
        "Calificación promedio Tienda 3: 4.048325561678677\n",
        "Calificación promedio Tienda 4: 3.9957591178965224\n",
        "Tienda\tCalificación Promedio\n",
        "0\tTienda 1\t3.976685\n",
        "1\tTienda 2\t4.037304\n",
        "2\tTienda 3\t4.048326\n",
        "3\tTienda 4\t3.995759\n"
      ],
      "metadata": {
        "id": "Q2ECgMs11G-i"
      },
      "execution_count": null,
      "outputs": []
    },
    {
      "cell_type": "markdown",
      "source": [
        "# 4. Productos más y menos vendidos"
      ],
      "metadata": {
        "id": "bWmZqiI91aia"
      }
    },
    {
      "cell_type": "code",
      "source": [
        " Producto más vendido:\n",
        "Producto              Mesa de noche\n",
        "Cantidad de Ventas              210\n",
        "Name: 0, dtype: object\n",
        "\n",
        " Producto menos vendido:\n",
        "Producto              Celular ABXY\n",
        "Cantidad de Ventas             157\n",
        "Name: 50, dtype: object\n"
      ],
      "metadata": {
        "id": "zSgvnOeG1gPi"
      },
      "execution_count": null,
      "outputs": []
    },
    {
      "cell_type": "markdown",
      "source": [
        "# 5. Envío promedio por tienda"
      ],
      "metadata": {
        "id": "hLvPYmfn1jwC"
      }
    },
    {
      "cell_type": "code",
      "source": [],
      "metadata": {
        "id": "LF7-CINq-xDq"
      },
      "execution_count": null,
      "outputs": []
    },
    {
      "cell_type": "code",
      "source": [
        "Envío promedio por tienda:\n",
        "     Tienda  Costo de envío\n",
        "0  Tienda 1        26018.61\n",
        "1  Tienda 2        25216.24\n",
        "2  Tienda 3        24805.68\n",
        "3  Tienda 4        23459.46"
      ],
      "metadata": {
        "id": "O8uXGeuJ1nQx"
      },
      "execution_count": null,
      "outputs": []
    },
    {
      "cell_type": "markdown",
      "source": [
        "**Conclusiones: Los hallazgos obtenidos fueron:\n",
        "- la tienda 4 obtiene menor cantidad de facturacion .\n",
        "- la categoria  deportes y diversion , eletrodomesticos registran pocos ventas.\n",
        "- la peor Calificación de promedio de la tienda la obtenien la tienda 1 y la tienda 4.\n",
        "-El Producto mas vendido es Mesa de noche y el menos vendido es el\n",
        " Celular ABXY.\n",
        "-las tiendas con de mayor costo de envio son las tienda 1 y la tienda 4\n",
        "\n",
        " Por tanto se recomenda al señor Juan venden la tienda 4.**"
      ],
      "metadata": {
        "id": "WLC14AkbyN-q"
      }
    }
  ]
}
